{
 "cells": [
  {
   "cell_type": "code",
   "execution_count": 1,
   "metadata": {},
   "outputs": [],
   "source": [
    "import pandas as pd\n",
    "import seaborn as sns\n",
    "import matplotlib.pyplot as plt"
   ]
  },
  {
   "cell_type": "code",
   "execution_count": 2,
   "metadata": {},
   "outputs": [],
   "source": [
    "df=pd.read_csv('salary cleaned data.csv')"
   ]
  },
  {
   "cell_type": "code",
   "execution_count": 3,
   "metadata": {
    "scrolled": false
   },
   "outputs": [
    {
     "data": {
      "text/html": [
       "<div>\n",
       "<style scoped>\n",
       "    .dataframe tbody tr th:only-of-type {\n",
       "        vertical-align: middle;\n",
       "    }\n",
       "\n",
       "    .dataframe tbody tr th {\n",
       "        vertical-align: top;\n",
       "    }\n",
       "\n",
       "    .dataframe thead th {\n",
       "        text-align: right;\n",
       "    }\n",
       "</style>\n",
       "<table border=\"1\" class=\"dataframe\">\n",
       "  <thead>\n",
       "    <tr style=\"text-align: right;\">\n",
       "      <th></th>\n",
       "      <th>Job Title</th>\n",
       "      <th>Salary Estimate</th>\n",
       "      <th>Job Description</th>\n",
       "      <th>Rating</th>\n",
       "      <th>Company Name</th>\n",
       "      <th>Location</th>\n",
       "      <th>Size</th>\n",
       "      <th>Founded</th>\n",
       "      <th>Type of ownership</th>\n",
       "      <th>Industry</th>\n",
       "      <th>...</th>\n",
       "      <th>Max Salary</th>\n",
       "      <th>Average</th>\n",
       "      <th>Company Text</th>\n",
       "      <th>State</th>\n",
       "      <th>Age</th>\n",
       "      <th>Python</th>\n",
       "      <th>R studio</th>\n",
       "      <th>Spark</th>\n",
       "      <th>aws</th>\n",
       "      <th>excel</th>\n",
       "    </tr>\n",
       "  </thead>\n",
       "  <tbody>\n",
       "    <tr>\n",
       "      <th>0</th>\n",
       "      <td>Data Scientist Virtual Hiring Event</td>\n",
       "      <td>$70K-$116K\\n(Glassdoor est.)</td>\n",
       "      <td>GEODIS Hiring Event! Offers on the Spot!\\n\\nEv...</td>\n",
       "      <td>3.1</td>\n",
       "      <td>Geodis\\n3.1</td>\n",
       "      <td>Brentwood, TN</td>\n",
       "      <td>10000+ Employees</td>\n",
       "      <td>1904</td>\n",
       "      <td>Subsidiary or Business Segment</td>\n",
       "      <td>Logistics &amp; Supply Chain</td>\n",
       "      <td>...</td>\n",
       "      <td>116</td>\n",
       "      <td>93.0</td>\n",
       "      <td>Geodis\\n</td>\n",
       "      <td>TN</td>\n",
       "      <td>116</td>\n",
       "      <td>0</td>\n",
       "      <td>0</td>\n",
       "      <td>0</td>\n",
       "      <td>0</td>\n",
       "      <td>0</td>\n",
       "    </tr>\n",
       "    <tr>\n",
       "      <th>1</th>\n",
       "      <td>Data Scientist 1</td>\n",
       "      <td>$57K-$94K\\n(Glassdoor est.)</td>\n",
       "      <td>At NGL, we strive to make data-driven decision...</td>\n",
       "      <td>3.0</td>\n",
       "      <td>National Guardian Life Insurance Company\\n3.0</td>\n",
       "      <td>Madison, WI</td>\n",
       "      <td>201 to 500 Employees</td>\n",
       "      <td>1909</td>\n",
       "      <td>Company - Private</td>\n",
       "      <td>Insurance Carriers</td>\n",
       "      <td>...</td>\n",
       "      <td>94</td>\n",
       "      <td>75.5</td>\n",
       "      <td>National Guardian Life Insurance Company\\n</td>\n",
       "      <td>WI</td>\n",
       "      <td>111</td>\n",
       "      <td>0</td>\n",
       "      <td>0</td>\n",
       "      <td>0</td>\n",
       "      <td>0</td>\n",
       "      <td>1</td>\n",
       "    </tr>\n",
       "    <tr>\n",
       "      <th>2</th>\n",
       "      <td>Data Analyst</td>\n",
       "      <td>$50K-$88K\\n(Glassdoor est.)</td>\n",
       "      <td>Rational is growing, and we need amazing talen...</td>\n",
       "      <td>2.7</td>\n",
       "      <td>Rational\\n2.7</td>\n",
       "      <td>Redmond, WA</td>\n",
       "      <td>201 to 500 Employees</td>\n",
       "      <td>2009</td>\n",
       "      <td>Company - Public</td>\n",
       "      <td>Consulting</td>\n",
       "      <td>...</td>\n",
       "      <td>88</td>\n",
       "      <td>69.0</td>\n",
       "      <td>Rational\\n</td>\n",
       "      <td>WA</td>\n",
       "      <td>11</td>\n",
       "      <td>0</td>\n",
       "      <td>0</td>\n",
       "      <td>0</td>\n",
       "      <td>0</td>\n",
       "      <td>1</td>\n",
       "    </tr>\n",
       "    <tr>\n",
       "      <th>3</th>\n",
       "      <td>Senior Data Scientist Virtual Hiring Event</td>\n",
       "      <td>$102K-$165K\\n(Glassdoor est.)</td>\n",
       "      <td>The Zebra Hiring Event // Senior Data Scientis...</td>\n",
       "      <td>4.0</td>\n",
       "      <td>The Zebra\\n4.0</td>\n",
       "      <td>Austin, TX</td>\n",
       "      <td>51 to 200 Employees</td>\n",
       "      <td>2012</td>\n",
       "      <td>Company - Private</td>\n",
       "      <td>Insurance Agencies &amp; Brokerages</td>\n",
       "      <td>...</td>\n",
       "      <td>165</td>\n",
       "      <td>133.5</td>\n",
       "      <td>The Zebra\\n</td>\n",
       "      <td>TX</td>\n",
       "      <td>8</td>\n",
       "      <td>1</td>\n",
       "      <td>0</td>\n",
       "      <td>0</td>\n",
       "      <td>0</td>\n",
       "      <td>0</td>\n",
       "    </tr>\n",
       "    <tr>\n",
       "      <th>4</th>\n",
       "      <td>Data Scientist</td>\n",
       "      <td>$76K-$127K\\n(Glassdoor est.)</td>\n",
       "      <td>Description\\n\\nJob Description:\\n\\nLeidos has ...</td>\n",
       "      <td>3.6</td>\n",
       "      <td>Leidos\\n3.6</td>\n",
       "      <td>McLean, VA</td>\n",
       "      <td>10000+ Employees</td>\n",
       "      <td>1969</td>\n",
       "      <td>Company - Public</td>\n",
       "      <td>Aerospace &amp; Defense</td>\n",
       "      <td>...</td>\n",
       "      <td>127</td>\n",
       "      <td>101.5</td>\n",
       "      <td>Leidos\\n</td>\n",
       "      <td>VA</td>\n",
       "      <td>51</td>\n",
       "      <td>1</td>\n",
       "      <td>0</td>\n",
       "      <td>0</td>\n",
       "      <td>1</td>\n",
       "      <td>1</td>\n",
       "    </tr>\n",
       "  </tbody>\n",
       "</table>\n",
       "<p>5 rows × 25 columns</p>\n",
       "</div>"
      ],
      "text/plain": [
       "                                    Job Title                Salary Estimate  \\\n",
       "0         Data Scientist Virtual Hiring Event   $70K-$116K\\n(Glassdoor est.)   \n",
       "1                            Data Scientist 1    $57K-$94K\\n(Glassdoor est.)   \n",
       "2                                Data Analyst    $50K-$88K\\n(Glassdoor est.)   \n",
       "3  Senior Data Scientist Virtual Hiring Event  $102K-$165K\\n(Glassdoor est.)   \n",
       "4                              Data Scientist   $76K-$127K\\n(Glassdoor est.)   \n",
       "\n",
       "                                     Job Description  Rating  \\\n",
       "0  GEODIS Hiring Event! Offers on the Spot!\\n\\nEv...     3.1   \n",
       "1  At NGL, we strive to make data-driven decision...     3.0   \n",
       "2  Rational is growing, and we need amazing talen...     2.7   \n",
       "3  The Zebra Hiring Event // Senior Data Scientis...     4.0   \n",
       "4  Description\\n\\nJob Description:\\n\\nLeidos has ...     3.6   \n",
       "\n",
       "                                    Company Name       Location  \\\n",
       "0                                    Geodis\\n3.1  Brentwood, TN   \n",
       "1  National Guardian Life Insurance Company\\n3.0    Madison, WI   \n",
       "2                                  Rational\\n2.7    Redmond, WA   \n",
       "3                                 The Zebra\\n4.0     Austin, TX   \n",
       "4                                    Leidos\\n3.6     McLean, VA   \n",
       "\n",
       "                   Size  Founded               Type of ownership  \\\n",
       "0      10000+ Employees     1904  Subsidiary or Business Segment   \n",
       "1  201 to 500 Employees     1909               Company - Private   \n",
       "2  201 to 500 Employees     2009                Company - Public   \n",
       "3   51 to 200 Employees     2012               Company - Private   \n",
       "4      10000+ Employees     1969                Company - Public   \n",
       "\n",
       "                          Industry  ... Max Salary Average  \\\n",
       "0         Logistics & Supply Chain  ...        116    93.0   \n",
       "1               Insurance Carriers  ...         94    75.5   \n",
       "2                       Consulting  ...         88    69.0   \n",
       "3  Insurance Agencies & Brokerages  ...        165   133.5   \n",
       "4              Aerospace & Defense  ...        127   101.5   \n",
       "\n",
       "                                 Company Text  State  Age  Python  R studio  \\\n",
       "0                                    Geodis\\n     TN  116       0         0   \n",
       "1  National Guardian Life Insurance Company\\n     WI  111       0         0   \n",
       "2                                  Rational\\n     WA   11       0         0   \n",
       "3                                 The Zebra\\n     TX    8       1         0   \n",
       "4                                    Leidos\\n     VA   51       1         0   \n",
       "\n",
       "  Spark aws  excel  \n",
       "0     0   0      0  \n",
       "1     0   0      1  \n",
       "2     0   0      1  \n",
       "3     0   0      0  \n",
       "4     0   1      1  \n",
       "\n",
       "[5 rows x 25 columns]"
      ]
     },
     "execution_count": 3,
     "metadata": {},
     "output_type": "execute_result"
    }
   ],
   "source": [
    "df.head()"
   ]
  },
  {
   "cell_type": "code",
   "execution_count": 4,
   "metadata": {},
   "outputs": [
    {
     "data": {
      "text/plain": [
       "Index(['Job Title', 'Salary Estimate', 'Job Description', 'Rating',\n",
       "       'Company Name', 'Location', 'Size', 'Founded', 'Type of ownership',\n",
       "       'Industry', 'Sector', 'Revenue', 'employer_provided', 'per hour',\n",
       "       'Min Salary', 'Max Salary', 'Average', 'Company Text', 'State', 'Age',\n",
       "       'Python', 'R studio', 'Spark', 'aws', 'excel'],\n",
       "      dtype='object')"
      ]
     },
     "execution_count": 4,
     "metadata": {},
     "output_type": "execute_result"
    }
   ],
   "source": [
    "df.columns"
   ]
  },
  {
   "cell_type": "code",
   "execution_count": 5,
   "metadata": {},
   "outputs": [],
   "source": [
    "def title_simplifier(title):\n",
    "    if 'data scientist' in title.lower():\n",
    "        return 'data scientist'\n",
    "    elif 'data engineer' in title.lower():\n",
    "        return 'data engineer'\n",
    "    elif 'analyst' in title.lower():\n",
    "        return 'analyst'\n",
    "    elif 'machine learning' in title.lower():\n",
    "        return 'machine learning'\n",
    "    elif 'manager' in title.lower():\n",
    "        return 'manager'\n",
    "    elif 'director' in title.lower():\n",
    "        return 'director'\n",
    "    else:\n",
    "        return 'na'\n",
    "def seniority(title):\n",
    "    if 'sr' in title.lower() or 'sr.' in title.lower() or 'senior' in title.lower() or 'lead' in title.lower() or 'principal' in title.lower():\n",
    "        return 'senior'\n",
    "    elif 'jr' in title.lower() or 'jr.' in title.lower() or 'junior' in title.lower():\n",
    "        return 'jr'\n",
    "    else:\n",
    "        return 'na'\n",
    "  \n"
   ]
  },
  {
   "cell_type": "code",
   "execution_count": 6,
   "metadata": {},
   "outputs": [
    {
     "data": {
      "text/plain": [
       "data scientist      691\n",
       "analyst             131\n",
       "data engineer        60\n",
       "na                   57\n",
       "machine learning     46\n",
       "manager              13\n",
       "director              2\n",
       "Name: Job Simp, dtype: int64"
      ]
     },
     "execution_count": 6,
     "metadata": {},
     "output_type": "execute_result"
    }
   ],
   "source": [
    "df['Job Simp']=df['Job Title'].apply(title_simplifier)\n",
    "df['Job Simp'].value_counts()"
   ]
  },
  {
   "cell_type": "code",
   "execution_count": 7,
   "metadata": {},
   "outputs": [
    {
     "data": {
      "text/plain": [
       "na        869\n",
       "senior    130\n",
       "jr          1\n",
       "Name: Seniority, dtype: int64"
      ]
     },
     "execution_count": 7,
     "metadata": {},
     "output_type": "execute_result"
    }
   ],
   "source": [
    "df['Seniority']=df['Job Title'].apply(seniority)\n",
    "df['Seniority'].value_counts()"
   ]
  },
  {
   "cell_type": "code",
   "execution_count": 8,
   "metadata": {},
   "outputs": [],
   "source": [
    "#fix los angeles state\n",
    "df['State']=df['State'].apply(lambda x: x.replace('Los Angeles','CA'))"
   ]
  },
  {
   "cell_type": "code",
   "execution_count": 9,
   "metadata": {},
   "outputs": [
    {
     "data": {
      "text/plain": [
       "0      2260\n",
       "1      2432\n",
       "2      4680\n",
       "3      4131\n",
       "4      3619\n",
       "       ... \n",
       "995    6313\n",
       "996    3602\n",
       "997    3563\n",
       "998    5311\n",
       "999    2257\n",
       "Name: desc length, Length: 1000, dtype: int64"
      ]
     },
     "execution_count": 9,
     "metadata": {},
     "output_type": "execute_result"
    }
   ],
   "source": [
    "#fix job description length\n",
    "df['desc length']=df['Job Description'].apply(lambda x: len(x))\n",
    "df['desc length']"
   ]
  },
  {
   "cell_type": "code",
   "execution_count": 10,
   "metadata": {
    "scrolled": true
   },
   "outputs": [
    {
     "data": {
      "text/html": [
       "<div>\n",
       "<style scoped>\n",
       "    .dataframe tbody tr th:only-of-type {\n",
       "        vertical-align: middle;\n",
       "    }\n",
       "\n",
       "    .dataframe tbody tr th {\n",
       "        vertical-align: top;\n",
       "    }\n",
       "\n",
       "    .dataframe thead th {\n",
       "        text-align: right;\n",
       "    }\n",
       "</style>\n",
       "<table border=\"1\" class=\"dataframe\">\n",
       "  <thead>\n",
       "    <tr style=\"text-align: right;\">\n",
       "      <th></th>\n",
       "      <th>Job Title</th>\n",
       "      <th>Salary Estimate</th>\n",
       "      <th>Job Description</th>\n",
       "      <th>Rating</th>\n",
       "      <th>Company Name</th>\n",
       "      <th>Location</th>\n",
       "      <th>Size</th>\n",
       "      <th>Founded</th>\n",
       "      <th>Type of ownership</th>\n",
       "      <th>Industry</th>\n",
       "      <th>...</th>\n",
       "      <th>State</th>\n",
       "      <th>Age</th>\n",
       "      <th>Python</th>\n",
       "      <th>R studio</th>\n",
       "      <th>Spark</th>\n",
       "      <th>aws</th>\n",
       "      <th>excel</th>\n",
       "      <th>Job Simp</th>\n",
       "      <th>Seniority</th>\n",
       "      <th>desc length</th>\n",
       "    </tr>\n",
       "  </thead>\n",
       "  <tbody>\n",
       "    <tr>\n",
       "      <th>0</th>\n",
       "      <td>Data Scientist Virtual Hiring Event</td>\n",
       "      <td>$70K-$116K\\n(Glassdoor est.)</td>\n",
       "      <td>GEODIS Hiring Event! Offers on the Spot!\\n\\nEv...</td>\n",
       "      <td>3.1</td>\n",
       "      <td>Geodis\\n3.1</td>\n",
       "      <td>Brentwood, TN</td>\n",
       "      <td>10000+ Employees</td>\n",
       "      <td>1904</td>\n",
       "      <td>Subsidiary or Business Segment</td>\n",
       "      <td>Logistics &amp; Supply Chain</td>\n",
       "      <td>...</td>\n",
       "      <td>TN</td>\n",
       "      <td>116</td>\n",
       "      <td>0</td>\n",
       "      <td>0</td>\n",
       "      <td>0</td>\n",
       "      <td>0</td>\n",
       "      <td>0</td>\n",
       "      <td>data scientist</td>\n",
       "      <td>na</td>\n",
       "      <td>2260</td>\n",
       "    </tr>\n",
       "    <tr>\n",
       "      <th>1</th>\n",
       "      <td>Data Scientist 1</td>\n",
       "      <td>$57K-$94K\\n(Glassdoor est.)</td>\n",
       "      <td>At NGL, we strive to make data-driven decision...</td>\n",
       "      <td>3.0</td>\n",
       "      <td>National Guardian Life Insurance Company\\n3.0</td>\n",
       "      <td>Madison, WI</td>\n",
       "      <td>201 to 500 Employees</td>\n",
       "      <td>1909</td>\n",
       "      <td>Company - Private</td>\n",
       "      <td>Insurance Carriers</td>\n",
       "      <td>...</td>\n",
       "      <td>WI</td>\n",
       "      <td>111</td>\n",
       "      <td>0</td>\n",
       "      <td>0</td>\n",
       "      <td>0</td>\n",
       "      <td>0</td>\n",
       "      <td>1</td>\n",
       "      <td>data scientist</td>\n",
       "      <td>na</td>\n",
       "      <td>2432</td>\n",
       "    </tr>\n",
       "    <tr>\n",
       "      <th>2</th>\n",
       "      <td>Data Analyst</td>\n",
       "      <td>$50K-$88K\\n(Glassdoor est.)</td>\n",
       "      <td>Rational is growing, and we need amazing talen...</td>\n",
       "      <td>2.7</td>\n",
       "      <td>Rational\\n2.7</td>\n",
       "      <td>Redmond, WA</td>\n",
       "      <td>201 to 500 Employees</td>\n",
       "      <td>2009</td>\n",
       "      <td>Company - Public</td>\n",
       "      <td>Consulting</td>\n",
       "      <td>...</td>\n",
       "      <td>WA</td>\n",
       "      <td>11</td>\n",
       "      <td>0</td>\n",
       "      <td>0</td>\n",
       "      <td>0</td>\n",
       "      <td>0</td>\n",
       "      <td>1</td>\n",
       "      <td>analyst</td>\n",
       "      <td>na</td>\n",
       "      <td>4680</td>\n",
       "    </tr>\n",
       "    <tr>\n",
       "      <th>3</th>\n",
       "      <td>Senior Data Scientist Virtual Hiring Event</td>\n",
       "      <td>$102K-$165K\\n(Glassdoor est.)</td>\n",
       "      <td>The Zebra Hiring Event // Senior Data Scientis...</td>\n",
       "      <td>4.0</td>\n",
       "      <td>The Zebra\\n4.0</td>\n",
       "      <td>Austin, TX</td>\n",
       "      <td>51 to 200 Employees</td>\n",
       "      <td>2012</td>\n",
       "      <td>Company - Private</td>\n",
       "      <td>Insurance Agencies &amp; Brokerages</td>\n",
       "      <td>...</td>\n",
       "      <td>TX</td>\n",
       "      <td>8</td>\n",
       "      <td>1</td>\n",
       "      <td>0</td>\n",
       "      <td>0</td>\n",
       "      <td>0</td>\n",
       "      <td>0</td>\n",
       "      <td>data scientist</td>\n",
       "      <td>senior</td>\n",
       "      <td>4131</td>\n",
       "    </tr>\n",
       "    <tr>\n",
       "      <th>4</th>\n",
       "      <td>Data Scientist</td>\n",
       "      <td>$76K-$127K\\n(Glassdoor est.)</td>\n",
       "      <td>Description\\n\\nJob Description:\\n\\nLeidos has ...</td>\n",
       "      <td>3.6</td>\n",
       "      <td>Leidos\\n3.6</td>\n",
       "      <td>McLean, VA</td>\n",
       "      <td>10000+ Employees</td>\n",
       "      <td>1969</td>\n",
       "      <td>Company - Public</td>\n",
       "      <td>Aerospace &amp; Defense</td>\n",
       "      <td>...</td>\n",
       "      <td>VA</td>\n",
       "      <td>51</td>\n",
       "      <td>1</td>\n",
       "      <td>0</td>\n",
       "      <td>0</td>\n",
       "      <td>1</td>\n",
       "      <td>1</td>\n",
       "      <td>data scientist</td>\n",
       "      <td>na</td>\n",
       "      <td>3619</td>\n",
       "    </tr>\n",
       "    <tr>\n",
       "      <th>...</th>\n",
       "      <td>...</td>\n",
       "      <td>...</td>\n",
       "      <td>...</td>\n",
       "      <td>...</td>\n",
       "      <td>...</td>\n",
       "      <td>...</td>\n",
       "      <td>...</td>\n",
       "      <td>...</td>\n",
       "      <td>...</td>\n",
       "      <td>...</td>\n",
       "      <td>...</td>\n",
       "      <td>...</td>\n",
       "      <td>...</td>\n",
       "      <td>...</td>\n",
       "      <td>...</td>\n",
       "      <td>...</td>\n",
       "      <td>...</td>\n",
       "      <td>...</td>\n",
       "      <td>...</td>\n",
       "      <td>...</td>\n",
       "      <td>...</td>\n",
       "    </tr>\n",
       "    <tr>\n",
       "      <th>995</th>\n",
       "      <td>Data Science Engineering, Machine Learning</td>\n",
       "      <td>$128K-$211K\\n(Glassdoor est.)</td>\n",
       "      <td>To get the best candidate experience, please c...</td>\n",
       "      <td>4.3</td>\n",
       "      <td>MuleSoft\\n4.3</td>\n",
       "      <td>San Francisco, CA</td>\n",
       "      <td>1001 to 5000 Employees</td>\n",
       "      <td>2006</td>\n",
       "      <td>Subsidiary or Business Segment</td>\n",
       "      <td>Enterprise Software &amp; Network Solutions</td>\n",
       "      <td>...</td>\n",
       "      <td>CA</td>\n",
       "      <td>14</td>\n",
       "      <td>1</td>\n",
       "      <td>0</td>\n",
       "      <td>1</td>\n",
       "      <td>0</td>\n",
       "      <td>1</td>\n",
       "      <td>machine learning</td>\n",
       "      <td>na</td>\n",
       "      <td>6313</td>\n",
       "    </tr>\n",
       "    <tr>\n",
       "      <th>996</th>\n",
       "      <td>Data Analyst - Predictive Modeler</td>\n",
       "      <td>$35K-$69K\\n(Glassdoor est.)</td>\n",
       "      <td>Zeta Global is looking for a talented Predicti...</td>\n",
       "      <td>3.3</td>\n",
       "      <td>Zeta Global\\n3.3</td>\n",
       "      <td>East Lansing, MI</td>\n",
       "      <td>1001 to 5000 Employees</td>\n",
       "      <td>2007</td>\n",
       "      <td>Company - Private</td>\n",
       "      <td>Advertising &amp; Marketing</td>\n",
       "      <td>...</td>\n",
       "      <td>MI</td>\n",
       "      <td>13</td>\n",
       "      <td>1</td>\n",
       "      <td>0</td>\n",
       "      <td>1</td>\n",
       "      <td>0</td>\n",
       "      <td>1</td>\n",
       "      <td>analyst</td>\n",
       "      <td>na</td>\n",
       "      <td>3602</td>\n",
       "    </tr>\n",
       "    <tr>\n",
       "      <th>997</th>\n",
       "      <td>Data Scientist</td>\n",
       "      <td>$101K-$169K\\n(Glassdoor est.)</td>\n",
       "      <td>ICR has opportunities available for experience...</td>\n",
       "      <td>3.8</td>\n",
       "      <td>ICR\\n3.8</td>\n",
       "      <td>Denver, CO</td>\n",
       "      <td>201 to 500 Employees</td>\n",
       "      <td>1998</td>\n",
       "      <td>Company - Private</td>\n",
       "      <td>Financial Analytics &amp; Research</td>\n",
       "      <td>...</td>\n",
       "      <td>CO</td>\n",
       "      <td>22</td>\n",
       "      <td>1</td>\n",
       "      <td>0</td>\n",
       "      <td>1</td>\n",
       "      <td>0</td>\n",
       "      <td>0</td>\n",
       "      <td>data scientist</td>\n",
       "      <td>na</td>\n",
       "      <td>3563</td>\n",
       "    </tr>\n",
       "    <tr>\n",
       "      <th>998</th>\n",
       "      <td>Machine Learning Scientist</td>\n",
       "      <td>$93K-$148K\\n(Glassdoor est.)</td>\n",
       "      <td>Posted: Aug 4, 2020\\nRole Number:\\n200184558\\n...</td>\n",
       "      <td>4.2</td>\n",
       "      <td>Apple\\n4.2</td>\n",
       "      <td>Austin, TX</td>\n",
       "      <td>10000+ Employees</td>\n",
       "      <td>1976</td>\n",
       "      <td>Company - Public</td>\n",
       "      <td>Computer Hardware &amp; Software</td>\n",
       "      <td>...</td>\n",
       "      <td>TX</td>\n",
       "      <td>44</td>\n",
       "      <td>1</td>\n",
       "      <td>0</td>\n",
       "      <td>1</td>\n",
       "      <td>0</td>\n",
       "      <td>1</td>\n",
       "      <td>machine learning</td>\n",
       "      <td>na</td>\n",
       "      <td>5311</td>\n",
       "    </tr>\n",
       "    <tr>\n",
       "      <th>999</th>\n",
       "      <td>Data Scientist</td>\n",
       "      <td>$108K-$143K\\n(Glassdoor est.)</td>\n",
       "      <td>Please review the job details below.\\nWe are l...</td>\n",
       "      <td>3.5</td>\n",
       "      <td>Maxar Technologies\\n3.5</td>\n",
       "      <td>Herndon, VA</td>\n",
       "      <td>5001 to 10000 Employees</td>\n",
       "      <td>-1</td>\n",
       "      <td>Company - Public</td>\n",
       "      <td>Aerospace &amp; Defense</td>\n",
       "      <td>...</td>\n",
       "      <td>VA</td>\n",
       "      <td>-1</td>\n",
       "      <td>1</td>\n",
       "      <td>0</td>\n",
       "      <td>1</td>\n",
       "      <td>0</td>\n",
       "      <td>0</td>\n",
       "      <td>data scientist</td>\n",
       "      <td>na</td>\n",
       "      <td>2257</td>\n",
       "    </tr>\n",
       "  </tbody>\n",
       "</table>\n",
       "<p>1000 rows × 28 columns</p>\n",
       "</div>"
      ],
      "text/plain": [
       "                                      Job Title  \\\n",
       "0           Data Scientist Virtual Hiring Event   \n",
       "1                              Data Scientist 1   \n",
       "2                                  Data Analyst   \n",
       "3    Senior Data Scientist Virtual Hiring Event   \n",
       "4                                Data Scientist   \n",
       "..                                          ...   \n",
       "995  Data Science Engineering, Machine Learning   \n",
       "996           Data Analyst - Predictive Modeler   \n",
       "997                              Data Scientist   \n",
       "998                  Machine Learning Scientist   \n",
       "999                              Data Scientist   \n",
       "\n",
       "                   Salary Estimate  \\\n",
       "0     $70K-$116K\\n(Glassdoor est.)   \n",
       "1      $57K-$94K\\n(Glassdoor est.)   \n",
       "2      $50K-$88K\\n(Glassdoor est.)   \n",
       "3    $102K-$165K\\n(Glassdoor est.)   \n",
       "4     $76K-$127K\\n(Glassdoor est.)   \n",
       "..                             ...   \n",
       "995  $128K-$211K\\n(Glassdoor est.)   \n",
       "996    $35K-$69K\\n(Glassdoor est.)   \n",
       "997  $101K-$169K\\n(Glassdoor est.)   \n",
       "998   $93K-$148K\\n(Glassdoor est.)   \n",
       "999  $108K-$143K\\n(Glassdoor est.)   \n",
       "\n",
       "                                       Job Description  Rating  \\\n",
       "0    GEODIS Hiring Event! Offers on the Spot!\\n\\nEv...     3.1   \n",
       "1    At NGL, we strive to make data-driven decision...     3.0   \n",
       "2    Rational is growing, and we need amazing talen...     2.7   \n",
       "3    The Zebra Hiring Event // Senior Data Scientis...     4.0   \n",
       "4    Description\\n\\nJob Description:\\n\\nLeidos has ...     3.6   \n",
       "..                                                 ...     ...   \n",
       "995  To get the best candidate experience, please c...     4.3   \n",
       "996  Zeta Global is looking for a talented Predicti...     3.3   \n",
       "997  ICR has opportunities available for experience...     3.8   \n",
       "998  Posted: Aug 4, 2020\\nRole Number:\\n200184558\\n...     4.2   \n",
       "999  Please review the job details below.\\nWe are l...     3.5   \n",
       "\n",
       "                                      Company Name           Location  \\\n",
       "0                                      Geodis\\n3.1      Brentwood, TN   \n",
       "1    National Guardian Life Insurance Company\\n3.0        Madison, WI   \n",
       "2                                    Rational\\n2.7        Redmond, WA   \n",
       "3                                   The Zebra\\n4.0         Austin, TX   \n",
       "4                                      Leidos\\n3.6         McLean, VA   \n",
       "..                                             ...                ...   \n",
       "995                                  MuleSoft\\n4.3  San Francisco, CA   \n",
       "996                               Zeta Global\\n3.3   East Lansing, MI   \n",
       "997                                       ICR\\n3.8         Denver, CO   \n",
       "998                                     Apple\\n4.2         Austin, TX   \n",
       "999                        Maxar Technologies\\n3.5        Herndon, VA   \n",
       "\n",
       "                        Size  Founded               Type of ownership  \\\n",
       "0           10000+ Employees     1904  Subsidiary or Business Segment   \n",
       "1       201 to 500 Employees     1909               Company - Private   \n",
       "2       201 to 500 Employees     2009                Company - Public   \n",
       "3        51 to 200 Employees     2012               Company - Private   \n",
       "4           10000+ Employees     1969                Company - Public   \n",
       "..                       ...      ...                             ...   \n",
       "995   1001 to 5000 Employees     2006  Subsidiary or Business Segment   \n",
       "996   1001 to 5000 Employees     2007               Company - Private   \n",
       "997     201 to 500 Employees     1998               Company - Private   \n",
       "998         10000+ Employees     1976                Company - Public   \n",
       "999  5001 to 10000 Employees       -1                Company - Public   \n",
       "\n",
       "                                    Industry  ... State  Age  Python  \\\n",
       "0                   Logistics & Supply Chain  ...    TN  116       0   \n",
       "1                         Insurance Carriers  ...    WI  111       0   \n",
       "2                                 Consulting  ...    WA   11       0   \n",
       "3            Insurance Agencies & Brokerages  ...    TX    8       1   \n",
       "4                        Aerospace & Defense  ...    VA   51       1   \n",
       "..                                       ...  ...   ...  ...     ...   \n",
       "995  Enterprise Software & Network Solutions  ...    CA   14       1   \n",
       "996                  Advertising & Marketing  ...    MI   13       1   \n",
       "997           Financial Analytics & Research  ...    CO   22       1   \n",
       "998             Computer Hardware & Software  ...    TX   44       1   \n",
       "999                      Aerospace & Defense  ...    VA   -1       1   \n",
       "\n",
       "     R studio  Spark  aws  excel          Job Simp Seniority  desc length  \n",
       "0           0      0    0      0    data scientist        na         2260  \n",
       "1           0      0    0      1    data scientist        na         2432  \n",
       "2           0      0    0      1           analyst        na         4680  \n",
       "3           0      0    0      0    data scientist    senior         4131  \n",
       "4           0      0    1      1    data scientist        na         3619  \n",
       "..        ...    ...  ...    ...               ...       ...          ...  \n",
       "995         0      1    0      1  machine learning        na         6313  \n",
       "996         0      1    0      1           analyst        na         3602  \n",
       "997         0      1    0      0    data scientist        na         3563  \n",
       "998         0      1    0      1  machine learning        na         5311  \n",
       "999         0      1    0      0    data scientist        na         2257  \n",
       "\n",
       "[1000 rows x 28 columns]"
      ]
     },
     "execution_count": 10,
     "metadata": {},
     "output_type": "execute_result"
    }
   ],
   "source": [
    "df.columns = df.columns.str.replace('Min Salary', 'min_salary')\n",
    "df"
   ]
  },
  {
   "cell_type": "code",
   "execution_count": 11,
   "metadata": {},
   "outputs": [
    {
     "data": {
      "text/plain": [
       "Index(['Job Title', 'Salary Estimate', 'Job Description', 'Rating',\n",
       "       'Company Name', 'Location', 'Size', 'Founded', 'Type of ownership',\n",
       "       'Industry', 'Sector', 'Revenue', 'employer_provided', 'per hour',\n",
       "       'min_salary', 'Max Salary', 'Average', 'Company Text', 'State', 'Age',\n",
       "       'Python', 'R studio', 'Spark', 'aws', 'excel', 'Job Simp', 'Seniority',\n",
       "       'desc length'],\n",
       "      dtype='object')"
      ]
     },
     "execution_count": 11,
     "metadata": {},
     "output_type": "execute_result"
    }
   ],
   "source": [
    "df.columns"
   ]
  },
  {
   "cell_type": "code",
   "execution_count": 12,
   "metadata": {},
   "outputs": [
    {
     "data": {
      "text/plain": [
       "Index(['Job Title', 'Salary Estimate', 'Job Description', 'Rating',\n",
       "       'Company Name', 'Location', 'Size', 'Founded', 'Type of ownership',\n",
       "       'Industry', 'Sector', 'Revenue', 'employer_provided', 'per hour',\n",
       "       'min_salary', 'max_salary', 'Average', 'Company Text', 'State', 'Age',\n",
       "       'Python', 'R studio', 'Spark', 'aws', 'excel', 'Job Simp', 'Seniority',\n",
       "       'desc length'],\n",
       "      dtype='object')"
      ]
     },
     "execution_count": 12,
     "metadata": {},
     "output_type": "execute_result"
    }
   ],
   "source": [
    "df.columns = df.columns.str.replace('Max Salary', 'max_salary')\n",
    "df.columns"
   ]
  },
  {
   "cell_type": "code",
   "execution_count": 13,
   "metadata": {},
   "outputs": [
    {
     "data": {
      "text/plain": [
       "Index(['Job Title', 'Salary Estimate', 'Job Description', 'Rating',\n",
       "       'Company Name', 'Location', 'Size', 'Founded', 'Type of ownership',\n",
       "       'Industry', 'Sector', 'Revenue', 'employer_provided', 'hourly',\n",
       "       'min_salary', 'max_salary', 'Average', 'Company Text', 'State', 'Age',\n",
       "       'Python', 'R studio', 'Spark', 'aws', 'excel', 'Job Simp', 'Seniority',\n",
       "       'desc length'],\n",
       "      dtype='object')"
      ]
     },
     "execution_count": 13,
     "metadata": {},
     "output_type": "execute_result"
    }
   ],
   "source": [
    "df.columns = df.columns.str.replace('per hour', 'hourly')\n",
    "df.columns"
   ]
  },
  {
   "cell_type": "code",
   "execution_count": 14,
   "metadata": {},
   "outputs": [],
   "source": [
    "df['min_salary']=df.apply(lambda x: x.min_salary*2 if x.hourly ==1 else x.min_salary ,axis=1)\n",
    "df['max_salary']=df.apply(lambda x: x.max_salary*2 if x.hourly ==1 else x.max_salary ,axis=1)"
   ]
  },
  {
   "cell_type": "code",
   "execution_count": 15,
   "metadata": {},
   "outputs": [
    {
     "data": {
      "text/plain": [
       "Index(['Job Title', 'Salary Estimate', 'Job Description', 'Rating',\n",
       "       'Company Name', 'Location', 'Size', 'Founded', 'Type of ownership',\n",
       "       'Industry', 'Sector', 'Revenue', 'employer_provided', 'hourly',\n",
       "       'min_salary', 'max_salary', 'Average', 'Company Text', 'State', 'Age',\n",
       "       'Python', 'R studio', 'Spark', 'aws', 'excel', 'Job Simp', 'Seniority',\n",
       "       'desc length'],\n",
       "      dtype='object')"
      ]
     },
     "execution_count": 15,
     "metadata": {},
     "output_type": "execute_result"
    }
   ],
   "source": [
    "df.columns"
   ]
  },
  {
   "cell_type": "code",
   "execution_count": 16,
   "metadata": {},
   "outputs": [],
   "source": [
    "df['Company Text']=df['Company Text'].apply(lambda x: x.replace('\\n',''))"
   ]
  },
  {
   "cell_type": "code",
   "execution_count": 17,
   "metadata": {},
   "outputs": [
    {
     "data": {
      "text/plain": [
       "0                                        Geodis\n",
       "1      National Guardian Life Insurance Company\n",
       "2                                      Rational\n",
       "3                                     The Zebra\n",
       "4                                        Leidos\n",
       "                         ...                   \n",
       "995                                    MuleSoft\n",
       "996                                 Zeta Global\n",
       "997                                         ICR\n",
       "998                                       Apple\n",
       "999                          Maxar Technologies\n",
       "Name: Company Text, Length: 1000, dtype: object"
      ]
     },
     "execution_count": 17,
     "metadata": {},
     "output_type": "execute_result"
    }
   ],
   "source": [
    "df['Company Text']"
   ]
  },
  {
   "cell_type": "code",
   "execution_count": 18,
   "metadata": {},
   "outputs": [
    {
     "data": {
      "text/html": [
       "<div>\n",
       "<style scoped>\n",
       "    .dataframe tbody tr th:only-of-type {\n",
       "        vertical-align: middle;\n",
       "    }\n",
       "\n",
       "    .dataframe tbody tr th {\n",
       "        vertical-align: top;\n",
       "    }\n",
       "\n",
       "    .dataframe thead th {\n",
       "        text-align: right;\n",
       "    }\n",
       "</style>\n",
       "<table border=\"1\" class=\"dataframe\">\n",
       "  <thead>\n",
       "    <tr style=\"text-align: right;\">\n",
       "      <th></th>\n",
       "      <th>Rating</th>\n",
       "      <th>Founded</th>\n",
       "      <th>employer_provided</th>\n",
       "      <th>hourly</th>\n",
       "      <th>min_salary</th>\n",
       "      <th>max_salary</th>\n",
       "      <th>Average</th>\n",
       "      <th>Age</th>\n",
       "      <th>Python</th>\n",
       "      <th>R studio</th>\n",
       "      <th>Spark</th>\n",
       "      <th>aws</th>\n",
       "      <th>excel</th>\n",
       "      <th>desc length</th>\n",
       "    </tr>\n",
       "  </thead>\n",
       "  <tbody>\n",
       "    <tr>\n",
       "      <th>count</th>\n",
       "      <td>1000.00000</td>\n",
       "      <td>1000.000000</td>\n",
       "      <td>1000.000000</td>\n",
       "      <td>1000.000000</td>\n",
       "      <td>1000.00000</td>\n",
       "      <td>1000.00000</td>\n",
       "      <td>1000.000000</td>\n",
       "      <td>1000.000000</td>\n",
       "      <td>1000.000000</td>\n",
       "      <td>1000.000000</td>\n",
       "      <td>1000.000000</td>\n",
       "      <td>1000.000000</td>\n",
       "      <td>1000.000000</td>\n",
       "      <td>1000.000000</td>\n",
       "    </tr>\n",
       "    <tr>\n",
       "      <th>mean</th>\n",
       "      <td>3.77730</td>\n",
       "      <td>1775.712000</td>\n",
       "      <td>0.006000</td>\n",
       "      <td>0.002000</td>\n",
       "      <td>78.55400</td>\n",
       "      <td>127.67000</td>\n",
       "      <td>103.038000</td>\n",
       "      <td>40.066000</td>\n",
       "      <td>0.727000</td>\n",
       "      <td>0.006000</td>\n",
       "      <td>0.267000</td>\n",
       "      <td>0.214000</td>\n",
       "      <td>0.496000</td>\n",
       "      <td>3726.103000</td>\n",
       "    </tr>\n",
       "    <tr>\n",
       "      <th>std</th>\n",
       "      <td>0.62888</td>\n",
       "      <td>597.707506</td>\n",
       "      <td>0.077266</td>\n",
       "      <td>0.044699</td>\n",
       "      <td>25.27952</td>\n",
       "      <td>36.30831</td>\n",
       "      <td>30.251954</td>\n",
       "      <td>49.420178</td>\n",
       "      <td>0.445724</td>\n",
       "      <td>0.077266</td>\n",
       "      <td>0.442614</td>\n",
       "      <td>0.410332</td>\n",
       "      <td>0.500234</td>\n",
       "      <td>1620.800391</td>\n",
       "    </tr>\n",
       "    <tr>\n",
       "      <th>min</th>\n",
       "      <td>-1.00000</td>\n",
       "      <td>-1.000000</td>\n",
       "      <td>0.000000</td>\n",
       "      <td>0.000000</td>\n",
       "      <td>15.00000</td>\n",
       "      <td>16.00000</td>\n",
       "      <td>15.500000</td>\n",
       "      <td>-1.000000</td>\n",
       "      <td>0.000000</td>\n",
       "      <td>0.000000</td>\n",
       "      <td>0.000000</td>\n",
       "      <td>0.000000</td>\n",
       "      <td>0.000000</td>\n",
       "      <td>464.000000</td>\n",
       "    </tr>\n",
       "    <tr>\n",
       "      <th>25%</th>\n",
       "      <td>3.40000</td>\n",
       "      <td>1942.000000</td>\n",
       "      <td>0.000000</td>\n",
       "      <td>0.000000</td>\n",
       "      <td>60.00000</td>\n",
       "      <td>104.00000</td>\n",
       "      <td>82.500000</td>\n",
       "      <td>11.000000</td>\n",
       "      <td>0.000000</td>\n",
       "      <td>0.000000</td>\n",
       "      <td>0.000000</td>\n",
       "      <td>0.000000</td>\n",
       "      <td>0.000000</td>\n",
       "      <td>2673.000000</td>\n",
       "    </tr>\n",
       "    <tr>\n",
       "      <th>50%</th>\n",
       "      <td>3.80000</td>\n",
       "      <td>1989.000000</td>\n",
       "      <td>0.000000</td>\n",
       "      <td>0.000000</td>\n",
       "      <td>77.00000</td>\n",
       "      <td>124.00000</td>\n",
       "      <td>100.000000</td>\n",
       "      <td>22.000000</td>\n",
       "      <td>1.000000</td>\n",
       "      <td>0.000000</td>\n",
       "      <td>0.000000</td>\n",
       "      <td>0.000000</td>\n",
       "      <td>0.000000</td>\n",
       "      <td>3566.000000</td>\n",
       "    </tr>\n",
       "    <tr>\n",
       "      <th>75%</th>\n",
       "      <td>4.20000</td>\n",
       "      <td>2004.000000</td>\n",
       "      <td>0.000000</td>\n",
       "      <td>0.000000</td>\n",
       "      <td>93.00000</td>\n",
       "      <td>147.00000</td>\n",
       "      <td>120.625000</td>\n",
       "      <td>52.000000</td>\n",
       "      <td>1.000000</td>\n",
       "      <td>0.000000</td>\n",
       "      <td>1.000000</td>\n",
       "      <td>0.000000</td>\n",
       "      <td>1.000000</td>\n",
       "      <td>4607.250000</td>\n",
       "    </tr>\n",
       "    <tr>\n",
       "      <th>max</th>\n",
       "      <td>5.00000</td>\n",
       "      <td>2019.000000</td>\n",
       "      <td>1.000000</td>\n",
       "      <td>1.000000</td>\n",
       "      <td>180.00000</td>\n",
       "      <td>281.00000</td>\n",
       "      <td>225.000000</td>\n",
       "      <td>395.000000</td>\n",
       "      <td>1.000000</td>\n",
       "      <td>1.000000</td>\n",
       "      <td>1.000000</td>\n",
       "      <td>1.000000</td>\n",
       "      <td>1.000000</td>\n",
       "      <td>14394.000000</td>\n",
       "    </tr>\n",
       "  </tbody>\n",
       "</table>\n",
       "</div>"
      ],
      "text/plain": [
       "           Rating      Founded  employer_provided       hourly  min_salary  \\\n",
       "count  1000.00000  1000.000000        1000.000000  1000.000000  1000.00000   \n",
       "mean      3.77730  1775.712000           0.006000     0.002000    78.55400   \n",
       "std       0.62888   597.707506           0.077266     0.044699    25.27952   \n",
       "min      -1.00000    -1.000000           0.000000     0.000000    15.00000   \n",
       "25%       3.40000  1942.000000           0.000000     0.000000    60.00000   \n",
       "50%       3.80000  1989.000000           0.000000     0.000000    77.00000   \n",
       "75%       4.20000  2004.000000           0.000000     0.000000    93.00000   \n",
       "max       5.00000  2019.000000           1.000000     1.000000   180.00000   \n",
       "\n",
       "       max_salary      Average          Age       Python     R studio  \\\n",
       "count  1000.00000  1000.000000  1000.000000  1000.000000  1000.000000   \n",
       "mean    127.67000   103.038000    40.066000     0.727000     0.006000   \n",
       "std      36.30831    30.251954    49.420178     0.445724     0.077266   \n",
       "min      16.00000    15.500000    -1.000000     0.000000     0.000000   \n",
       "25%     104.00000    82.500000    11.000000     0.000000     0.000000   \n",
       "50%     124.00000   100.000000    22.000000     1.000000     0.000000   \n",
       "75%     147.00000   120.625000    52.000000     1.000000     0.000000   \n",
       "max     281.00000   225.000000   395.000000     1.000000     1.000000   \n",
       "\n",
       "             Spark          aws        excel   desc length  \n",
       "count  1000.000000  1000.000000  1000.000000   1000.000000  \n",
       "mean      0.267000     0.214000     0.496000   3726.103000  \n",
       "std       0.442614     0.410332     0.500234   1620.800391  \n",
       "min       0.000000     0.000000     0.000000    464.000000  \n",
       "25%       0.000000     0.000000     0.000000   2673.000000  \n",
       "50%       0.000000     0.000000     0.000000   3566.000000  \n",
       "75%       1.000000     0.000000     1.000000   4607.250000  \n",
       "max       1.000000     1.000000     1.000000  14394.000000  "
      ]
     },
     "execution_count": 18,
     "metadata": {},
     "output_type": "execute_result"
    }
   ],
   "source": [
    "df.describe()"
   ]
  },
  {
   "cell_type": "code",
   "execution_count": 19,
   "metadata": {},
   "outputs": [
    {
     "data": {
      "text/plain": [
       "<AxesSubplot:>"
      ]
     },
     "execution_count": 19,
     "metadata": {},
     "output_type": "execute_result"
    },
    {
     "data": {
      "image/png": "[encoded data removed]",
      "text/plain": [
       "<Figure size 432x288 with 1 Axes>"
      ]
     },
     "metadata": {
      "needs_background": "light"
     },
     "output_type": "display_data"
    }
   ],
   "source": [
    "df.Rating.hist()"
   ]
  },
  {
   "cell_type": "code",
   "execution_count": 20,
   "metadata": {},
   "outputs": [
    {
     "data": {
      "text/plain": [
       "<AxesSubplot:>"
      ]
     },
     "execution_count": 20,
     "metadata": {},
     "output_type": "execute_result"
    },
    {
     "data": {
      "image/png": "[encoded data removed]",
      "text/plain": [
       "<Figure size 432x288 with 1 Axes>"
      ]
     },
     "metadata": {
      "needs_background": "light"
     },
     "output_type": "display_data"
    }
   ],
   "source": [
    "df['Average'].hist()"
   ]
  },
  {
   "cell_type": "code",
   "execution_count": 21,
   "metadata": {},
   "outputs": [
    {
     "data": {
      "text/plain": [
       "<AxesSubplot:>"
      ]
     },
     "execution_count": 21,
     "metadata": {},
     "output_type": "execute_result"
    },
    {
     "data": {
      "image/png": "[encoded data removed]",
      "text/plain": [
       "<Figure size 432x288 with 1 Axes>"
      ]
     },
     "metadata": {
      "needs_background": "light"
     },
     "output_type": "display_data"
    }
   ],
   "source": [
    "df.Age.hist()"
   ]
  },
  {
   "cell_type": "code",
   "execution_count": 22,
   "metadata": {},
   "outputs": [
    {
     "data": {
      "text/plain": [
       "<AxesSubplot:>"
      ]
     },
     "execution_count": 22,
     "metadata": {},
     "output_type": "execute_result"
    },
    {
     "data": {
      "image/png": "[encoded data removed]",
      "text/plain": [
       "<Figure size 432x288 with 1 Axes>"
      ]
     },
     "metadata": {
      "needs_background": "light"
     },
     "output_type": "display_data"
    }
   ],
   "source": [
    "df['desc length'].hist()"
   ]
  },
  {
   "cell_type": "code",
   "execution_count": 23,
   "metadata": {},
   "outputs": [
    {
     "data": {
      "text/plain": [
       "{'whiskers': [<matplotlib.lines.Line2D at 0x15d58b14220>,\n",
       "  <matplotlib.lines.Line2D at 0x15d58b14580>],\n",
       " 'caps': [<matplotlib.lines.Line2D at 0x15d58b148e0>,\n",
       "  <matplotlib.lines.Line2D at 0x15d58b14c40>],\n",
       " 'boxes': [<matplotlib.lines.Line2D at 0x15d58b07e80>],\n",
       " 'medians': [<matplotlib.lines.Line2D at 0x15d58b14fa0>],\n",
       " 'fliers': [<matplotlib.lines.Line2D at 0x15d58b20340>],\n",
       " 'means': []}"
      ]
     },
     "execution_count": 23,
     "metadata": {},
     "output_type": "execute_result"
    },
    {
     "data": {
      "image/png": "[encoded data removed]",
      "text/plain": [
       "<Figure size 432x288 with 1 Axes>"
      ]
     },
     "metadata": {
      "needs_background": "light"
     },
     "output_type": "display_data"
    }
   ],
   "source": [
    "plt.boxplot(df['desc length'])"
   ]
  },
  {
   "cell_type": "code",
   "execution_count": 24,
   "metadata": {},
   "outputs": [
    {
     "data": {
      "text/plain": [
       "{'whiskers': [<matplotlib.lines.Line2D at 0x15d58b7d2e0>,\n",
       "  <matplotlib.lines.Line2D at 0x15d58b7d640>],\n",
       " 'caps': [<matplotlib.lines.Line2D at 0x15d58b7d9a0>,\n",
       "  <matplotlib.lines.Line2D at 0x15d58b7dd00>],\n",
       " 'boxes': [<matplotlib.lines.Line2D at 0x15d58b6bf40>],\n",
       " 'medians': [<matplotlib.lines.Line2D at 0x15d58b880a0>],\n",
       " 'fliers': [<matplotlib.lines.Line2D at 0x15d58b88400>],\n",
       " 'means': []}"
      ]
     },
     "execution_count": 24,
     "metadata": {},
     "output_type": "execute_result"
    },
    {
     "data": {
      "image/png": "[encoded data removed]",
      "text/plain": [
       "<Figure size 432x288 with 1 Axes>"
      ]
     },
     "metadata": {
      "needs_background": "light"
     },
     "output_type": "display_data"
    }
   ],
   "source": [
    "plt.boxplot(df['Rating'])"
   ]
  },
  {
   "cell_type": "code",
   "execution_count": 25,
   "metadata": {},
   "outputs": [
    {
     "data": {
      "text/plain": [
       "{'whiskers': [<matplotlib.lines.Line2D at 0x15d58bd1dc0>,\n",
       "  <matplotlib.lines.Line2D at 0x15d58bdd160>],\n",
       " 'caps': [<matplotlib.lines.Line2D at 0x15d58bdd4c0>,\n",
       "  <matplotlib.lines.Line2D at 0x15d58bdd820>],\n",
       " 'boxes': [<matplotlib.lines.Line2D at 0x15d58bd1a60>],\n",
       " 'medians': [<matplotlib.lines.Line2D at 0x15d58bddb80>],\n",
       " 'fliers': [<matplotlib.lines.Line2D at 0x15d58bddee0>],\n",
       " 'means': []}"
      ]
     },
     "execution_count": 25,
     "metadata": {},
     "output_type": "execute_result"
    },
    {
     "data": {
      "image/png": "[encoded data removed]",
      "text/plain": [
       "<Figure size 432x288 with 1 Axes>"
      ]
     },
     "metadata": {
      "needs_background": "light"
     },
     "output_type": "display_data"
    }
   ],
   "source": [
    "plt.boxplot(df['Age'])"
   ]
  },
  {
   "cell_type": "code",
   "execution_count": 26,
   "metadata": {},
   "outputs": [
    {
     "data": {
      "text/plain": [
       "{'whiskers': [<matplotlib.lines.Line2D at 0x15d58c403a0>,\n",
       "  <matplotlib.lines.Line2D at 0x15d58c40700>],\n",
       " 'caps': [<matplotlib.lines.Line2D at 0x15d58c40a60>,\n",
       "  <matplotlib.lines.Line2D at 0x15d58c40dc0>],\n",
       " 'boxes': [<matplotlib.lines.Line2D at 0x15d58c40040>],\n",
       " 'medians': [<matplotlib.lines.Line2D at 0x15d58c4d160>],\n",
       " 'fliers': [<matplotlib.lines.Line2D at 0x15d58c4d4c0>],\n",
       " 'means': []}"
      ]
     },
     "execution_count": 26,
     "metadata": {},
     "output_type": "execute_result"
    },
    {
     "data": {
      "image/png": "[encoded data removed]",
      "text/plain": [
       "<Figure size 432x288 with 1 Axes>"
      ]
     },
     "metadata": {
      "needs_background": "light"
     },
     "output_type": "display_data"
    }
   ],
   "source": [
    "plt.boxplot(df['Average'])"
   ]
  },
  {
   "cell_type": "code",
   "execution_count": 27,
   "metadata": {},
   "outputs": [
    {
     "data": {
      "text/html": [
       "<div>\n",
       "<style scoped>\n",
       "    .dataframe tbody tr th:only-of-type {\n",
       "        vertical-align: middle;\n",
       "    }\n",
       "\n",
       "    .dataframe tbody tr th {\n",
       "        vertical-align: top;\n",
       "    }\n",
       "\n",
       "    .dataframe thead th {\n",
       "        text-align: right;\n",
       "    }\n",
       "</style>\n",
       "<table border=\"1\" class=\"dataframe\">\n",
       "  <thead>\n",
       "    <tr style=\"text-align: right;\">\n",
       "      <th></th>\n",
       "      <th>Age</th>\n",
       "      <th>Average</th>\n",
       "      <th>Rating</th>\n",
       "      <th>desc length</th>\n",
       "    </tr>\n",
       "  </thead>\n",
       "  <tbody>\n",
       "    <tr>\n",
       "      <th>Age</th>\n",
       "      <td>1.000000</td>\n",
       "      <td>-0.070823</td>\n",
       "      <td>0.006892</td>\n",
       "      <td>0.214532</td>\n",
       "    </tr>\n",
       "    <tr>\n",
       "      <th>Average</th>\n",
       "      <td>-0.070823</td>\n",
       "      <td>1.000000</td>\n",
       "      <td>0.089728</td>\n",
       "      <td>-0.007719</td>\n",
       "    </tr>\n",
       "    <tr>\n",
       "      <th>Rating</th>\n",
       "      <td>0.006892</td>\n",
       "      <td>0.089728</td>\n",
       "      <td>1.000000</td>\n",
       "      <td>-0.030892</td>\n",
       "    </tr>\n",
       "    <tr>\n",
       "      <th>desc length</th>\n",
       "      <td>0.214532</td>\n",
       "      <td>-0.007719</td>\n",
       "      <td>-0.030892</td>\n",
       "      <td>1.000000</td>\n",
       "    </tr>\n",
       "  </tbody>\n",
       "</table>\n",
       "</div>"
      ],
      "text/plain": [
       "                  Age   Average    Rating  desc length\n",
       "Age          1.000000 -0.070823  0.006892     0.214532\n",
       "Average     -0.070823  1.000000  0.089728    -0.007719\n",
       "Rating       0.006892  0.089728  1.000000    -0.030892\n",
       "desc length  0.214532 -0.007719 -0.030892     1.000000"
      ]
     },
     "execution_count": 27,
     "metadata": {},
     "output_type": "execute_result"
    }
   ],
   "source": [
    "df[['Age','Average','Rating','desc length']].corr()"
   ]
  },
  {
   "cell_type": "code",
   "execution_count": 28,
   "metadata": {},
   "outputs": [
    {
     "data": {
      "text/plain": [
       "Index(['Job Title', 'Salary Estimate', 'Job Description', 'Rating',\n",
       "       'Company Name', 'Location', 'Size', 'Founded', 'Type of ownership',\n",
       "       'Industry', 'Sector', 'Revenue', 'employer_provided', 'hourly',\n",
       "       'min_salary', 'max_salary', 'Average', 'Company Text', 'State', 'Age',\n",
       "       'Python', 'R studio', 'Spark', 'aws', 'excel', 'Job Simp', 'Seniority',\n",
       "       'desc length'],\n",
       "      dtype='object')"
      ]
     },
     "execution_count": 28,
     "metadata": {},
     "output_type": "execute_result"
    }
   ],
   "source": [
    "df.columns"
   ]
  },
  {
   "cell_type": "code",
   "execution_count": 29,
   "metadata": {
    "scrolled": true
   },
   "outputs": [
    {
     "data": {
      "image/png": "[encoded data removed]",
      "text/plain": [
       "<Figure size 432x288 with 1 Axes>"
      ]
     },
     "metadata": {
      "needs_background": "light"
     },
     "output_type": "display_data"
    },
    {
     "data": {
      "image/png": "[encoded data removed]",
      "text/plain": [
       "<Figure size 432x288 with 1 Axes>"
      ]
     },
     "metadata": {
      "needs_background": "light"
     },
     "output_type": "display_data"
    },
    {
     "data": {
      "image/png": "[encoded data removed]",
      "text/plain": [
       "<Figure size 432x288 with 1 Axes>"
      ]
     },
     "metadata": {
      "needs_background": "light"
     },
     "output_type": "display_data"
    },
    {
     "data": {
      "image/png": "[encoded data removed]",
      "text/plain": [
       "<Figure size 432x288 with 1 Axes>"
      ]
     },
     "metadata": {
      "needs_background": "light"
     },
     "output_type": "display_data"
    },
    {
     "data": {
      "image/png": "[encoded data removed]",
      "text/plain": [
       "<Figure size 432x288 with 1 Axes>"
      ]
     },
     "metadata": {
      "needs_background": "light"
     },
     "output_type": "display_data"
    },
    {
     "data": {
      "image/png": "[encoded data removed]",
      "text/plain": [
       "<Figure size 432x288 with 1 Axes>"
      ]
     },
     "metadata": {
      "needs_background": "light"
     },
     "output_type": "display_data"
    },
    {
     "data": {
      "image/png": "[encoded data removed]",
      "text/plain": [
       "<Figure size 432x288 with 1 Axes>"
      ]
     },
     "metadata": {
      "needs_background": "light"
     },
     "output_type": "display_data"
    },
    {
     "data": {
      "image/png": "[encoded data removed]",
      "text/plain": [
       "<Figure size 432x288 with 1 Axes>"
      ]
     },
     "metadata": {
      "needs_background": "light"
     },
     "output_type": "display_data"
    },
    {
     "data": {
      "image/png": "[encoded data removed]",
      "text/plain": [
       "<Figure size 432x288 with 1 Axes>"
      ]
     },
     "metadata": {
      "needs_background": "light"
     },
     "output_type": "display_data"
    },
    {
     "data": {
      "image/png": "[encoded data removed]",
      "text/plain": [
       "<Figure size 432x288 with 1 Axes>"
      ]
     },
     "metadata": {
      "needs_background": "light"
     },
     "output_type": "display_data"
    },
    {
     "data": {
      "image/png": "[encoded data removed]",
      "text/plain": [
       "<Figure size 432x288 with 1 Axes>"
      ]
     },
     "metadata": {
      "needs_background": "light"
     },
     "output_type": "display_data"
    },
    {
     "data": {
      "image/png": "[encoded data removed]",
      "text/plain": [
       "<Figure size 432x288 with 1 Axes>"
      ]
     },
     "metadata": {
      "needs_background": "light"
     },
     "output_type": "display_data"
    }
   ],
   "source": [
    "df_cat=df[['Size','Type of ownership','Sector','Revenue','hourly','employer_provided','State',\n",
    "       'Python', 'R studio', 'Spark', 'aws', 'excel']]\n",
    "for i in df_cat.columns:\n",
    "    cat_num=df_cat[i].value_counts()\n",
    "    chart= sns.barplot(x=cat_num.index,y=cat_num)\n",
    "    chart.set_xticklabels(chart.get_xticklabels(),rotation=90)\n",
    "    plt.show()"
   ]
  },
  {
   "cell_type": "code",
   "execution_count": 30,
   "metadata": {},
   "outputs": [
    {
     "data": {
      "text/html": [
       "<div>\n",
       "<style scoped>\n",
       "    .dataframe tbody tr th:only-of-type {\n",
       "        vertical-align: middle;\n",
       "    }\n",
       "\n",
       "    .dataframe tbody tr th {\n",
       "        vertical-align: top;\n",
       "    }\n",
       "\n",
       "    .dataframe thead th {\n",
       "        text-align: right;\n",
       "    }\n",
       "</style>\n",
       "<table border=\"1\" class=\"dataframe\">\n",
       "  <thead>\n",
       "    <tr style=\"text-align: right;\">\n",
       "      <th></th>\n",
       "      <th>Average</th>\n",
       "    </tr>\n",
       "    <tr>\n",
       "      <th>Job Simp</th>\n",
       "      <th></th>\n",
       "    </tr>\n",
       "  </thead>\n",
       "  <tbody>\n",
       "    <tr>\n",
       "      <th>analyst</th>\n",
       "      <td>73.587786</td>\n",
       "    </tr>\n",
       "    <tr>\n",
       "      <th>data engineer</th>\n",
       "      <td>95.183333</td>\n",
       "    </tr>\n",
       "    <tr>\n",
       "      <th>data scientist</th>\n",
       "      <td>108.441389</td>\n",
       "    </tr>\n",
       "    <tr>\n",
       "      <th>director</th>\n",
       "      <td>115.500000</td>\n",
       "    </tr>\n",
       "    <tr>\n",
       "      <th>machine learning</th>\n",
       "      <td>137.315217</td>\n",
       "    </tr>\n",
       "    <tr>\n",
       "      <th>manager</th>\n",
       "      <td>99.192308</td>\n",
       "    </tr>\n",
       "    <tr>\n",
       "      <th>na</th>\n",
       "      <td>86.263158</td>\n",
       "    </tr>\n",
       "  </tbody>\n",
       "</table>\n",
       "</div>"
      ],
      "text/plain": [
       "                     Average\n",
       "Job Simp                    \n",
       "analyst            73.587786\n",
       "data engineer      95.183333\n",
       "data scientist    108.441389\n",
       "director          115.500000\n",
       "machine learning  137.315217\n",
       "manager            99.192308\n",
       "na                 86.263158"
      ]
     },
     "execution_count": 30,
     "metadata": {},
     "output_type": "execute_result"
    }
   ],
   "source": [
    "pd.pivot_table(df,index='Job Simp',values='Average')"
   ]
  },
  {
   "cell_type": "code",
   "execution_count": 31,
   "metadata": {
    "scrolled": true
   },
   "outputs": [
    {
     "data": {
      "text/html": [
       "<div>\n",
       "<style scoped>\n",
       "    .dataframe tbody tr th:only-of-type {\n",
       "        vertical-align: middle;\n",
       "    }\n",
       "\n",
       "    .dataframe tbody tr th {\n",
       "        vertical-align: top;\n",
       "    }\n",
       "\n",
       "    .dataframe thead th {\n",
       "        text-align: right;\n",
       "    }\n",
       "</style>\n",
       "<table border=\"1\" class=\"dataframe\">\n",
       "  <thead>\n",
       "    <tr style=\"text-align: right;\">\n",
       "      <th></th>\n",
       "      <th></th>\n",
       "      <th>Average</th>\n",
       "    </tr>\n",
       "    <tr>\n",
       "      <th>Job Simp</th>\n",
       "      <th>Seniority</th>\n",
       "      <th></th>\n",
       "    </tr>\n",
       "  </thead>\n",
       "  <tbody>\n",
       "    <tr>\n",
       "      <th rowspan=\"2\" valign=\"top\">analyst</th>\n",
       "      <th>na</th>\n",
       "      <td>66.120253</td>\n",
       "    </tr>\n",
       "    <tr>\n",
       "      <th>senior</th>\n",
       "      <td>84.932692</td>\n",
       "    </tr>\n",
       "    <tr>\n",
       "      <th rowspan=\"2\" valign=\"top\">data engineer</th>\n",
       "      <th>na</th>\n",
       "      <td>92.679245</td>\n",
       "    </tr>\n",
       "    <tr>\n",
       "      <th>senior</th>\n",
       "      <td>114.142857</td>\n",
       "    </tr>\n",
       "    <tr>\n",
       "      <th rowspan=\"2\" valign=\"top\">data scientist</th>\n",
       "      <th>na</th>\n",
       "      <td>105.867762</td>\n",
       "    </tr>\n",
       "    <tr>\n",
       "      <th>senior</th>\n",
       "      <td>140.067308</td>\n",
       "    </tr>\n",
       "    <tr>\n",
       "      <th>director</th>\n",
       "      <th>na</th>\n",
       "      <td>115.500000</td>\n",
       "    </tr>\n",
       "    <tr>\n",
       "      <th rowspan=\"3\" valign=\"top\">machine learning</th>\n",
       "      <th>jr</th>\n",
       "      <td>194.500000</td>\n",
       "    </tr>\n",
       "    <tr>\n",
       "      <th>na</th>\n",
       "      <td>129.975000</td>\n",
       "    </tr>\n",
       "    <tr>\n",
       "      <th>senior</th>\n",
       "      <td>184.600000</td>\n",
       "    </tr>\n",
       "    <tr>\n",
       "      <th rowspan=\"2\" valign=\"top\">manager</th>\n",
       "      <th>na</th>\n",
       "      <td>82.937500</td>\n",
       "    </tr>\n",
       "    <tr>\n",
       "      <th>senior</th>\n",
       "      <td>125.200000</td>\n",
       "    </tr>\n",
       "    <tr>\n",
       "      <th rowspan=\"2\" valign=\"top\">na</th>\n",
       "      <th>na</th>\n",
       "      <td>80.333333</td>\n",
       "    </tr>\n",
       "    <tr>\n",
       "      <th>senior</th>\n",
       "      <td>117.888889</td>\n",
       "    </tr>\n",
       "  </tbody>\n",
       "</table>\n",
       "</div>"
      ],
      "text/plain": [
       "                               Average\n",
       "Job Simp         Seniority            \n",
       "analyst          na          66.120253\n",
       "                 senior      84.932692\n",
       "data engineer    na          92.679245\n",
       "                 senior     114.142857\n",
       "data scientist   na         105.867762\n",
       "                 senior     140.067308\n",
       "director         na         115.500000\n",
       "machine learning jr         194.500000\n",
       "                 na         129.975000\n",
       "                 senior     184.600000\n",
       "manager          na          82.937500\n",
       "                 senior     125.200000\n",
       "na               na          80.333333\n",
       "                 senior     117.888889"
      ]
     },
     "execution_count": 31,
     "metadata": {},
     "output_type": "execute_result"
    }
   ],
   "source": [
    "pd.pivot_table(df,index=['Job Simp','Seniority'],values='Average')"
   ]
  },
  {
   "cell_type": "code",
   "execution_count": 32,
   "metadata": {
    "scrolled": true
   },
   "outputs": [
    {
     "data": {
      "text/html": [
       "<div>\n",
       "<style scoped>\n",
       "    .dataframe tbody tr th:only-of-type {\n",
       "        vertical-align: middle;\n",
       "    }\n",
       "\n",
       "    .dataframe tbody tr th {\n",
       "        vertical-align: top;\n",
       "    }\n",
       "\n",
       "    .dataframe thead th {\n",
       "        text-align: right;\n",
       "    }\n",
       "</style>\n",
       "<table border=\"1\" class=\"dataframe\">\n",
       "  <thead>\n",
       "    <tr style=\"text-align: right;\">\n",
       "      <th></th>\n",
       "      <th></th>\n",
       "      <th>Average</th>\n",
       "    </tr>\n",
       "    <tr>\n",
       "      <th>State</th>\n",
       "      <th>Job Simp</th>\n",
       "      <th></th>\n",
       "    </tr>\n",
       "  </thead>\n",
       "  <tbody>\n",
       "    <tr>\n",
       "      <th>WY</th>\n",
       "      <th>analyst</th>\n",
       "      <td>60.000000</td>\n",
       "    </tr>\n",
       "    <tr>\n",
       "      <th rowspan=\"3\" valign=\"top\">WI</th>\n",
       "      <th>na</th>\n",
       "      <td>77.000000</td>\n",
       "    </tr>\n",
       "    <tr>\n",
       "      <th>data scientist</th>\n",
       "      <td>103.000000</td>\n",
       "    </tr>\n",
       "    <tr>\n",
       "      <th>analyst</th>\n",
       "      <td>68.750000</td>\n",
       "    </tr>\n",
       "    <tr>\n",
       "      <th>WA</th>\n",
       "      <th>na</th>\n",
       "      <td>66.000000</td>\n",
       "    </tr>\n",
       "    <tr>\n",
       "      <th>...</th>\n",
       "      <th>...</th>\n",
       "      <td>...</td>\n",
       "    </tr>\n",
       "    <tr>\n",
       "      <th rowspan=\"2\" valign=\"top\">AZ</th>\n",
       "      <th>analyst</th>\n",
       "      <td>54.166667</td>\n",
       "    </tr>\n",
       "    <tr>\n",
       "      <th>na</th>\n",
       "      <td>104.000000</td>\n",
       "    </tr>\n",
       "    <tr>\n",
       "      <th rowspan=\"3\" valign=\"top\">AL</th>\n",
       "      <th>na</th>\n",
       "      <td>71.000000</td>\n",
       "    </tr>\n",
       "    <tr>\n",
       "      <th>data scientist</th>\n",
       "      <td>94.454545</td>\n",
       "    </tr>\n",
       "    <tr>\n",
       "      <th>data engineer</th>\n",
       "      <td>65.000000</td>\n",
       "    </tr>\n",
       "  </tbody>\n",
       "</table>\n",
       "<p>113 rows × 1 columns</p>\n",
       "</div>"
      ],
      "text/plain": [
       "                         Average\n",
       "State Job Simp                  \n",
       "WY    analyst          60.000000\n",
       "WI    na               77.000000\n",
       "      data scientist  103.000000\n",
       "      analyst          68.750000\n",
       "WA    na               66.000000\n",
       "...                          ...\n",
       "AZ    analyst          54.166667\n",
       "      na              104.000000\n",
       "AL    na               71.000000\n",
       "      data scientist   94.454545\n",
       "      data engineer    65.000000\n",
       "\n",
       "[113 rows x 1 columns]"
      ]
     },
     "execution_count": 32,
     "metadata": {},
     "output_type": "execute_result"
    }
   ],
   "source": [
    "pd.pivot_table(df,index=['State','Job Simp'],values='Average').sort_values('State',ascending=False)"
   ]
  },
  {
   "cell_type": "code",
   "execution_count": 33,
   "metadata": {},
   "outputs": [
    {
     "data": {
      "text/plain": [
       "Index(['Job Title', 'Salary Estimate', 'Job Description', 'Rating',\n",
       "       'Company Name', 'Location', 'Size', 'Founded', 'Type of ownership',\n",
       "       'Industry', 'Sector', 'Revenue', 'employer_provided', 'hourly',\n",
       "       'min_salary', 'max_salary', 'Average', 'Company Text', 'State', 'Age',\n",
       "       'Python', 'R studio', 'Spark', 'aws', 'excel', 'Job Simp', 'Seniority',\n",
       "       'desc length'],\n",
       "      dtype='object')"
      ]
     },
     "execution_count": 33,
     "metadata": {},
     "output_type": "execute_result"
    }
   ],
   "source": [
    "df.columns"
   ]
  },
  {
   "cell_type": "code",
   "execution_count": 43,
   "metadata": {},
   "outputs": [],
   "source": [
    "df_pivot=df[['Rating','Size','Age','desc length','Industry', 'Sector', 'Revenue', 'employer_provided', 'hourly','Python', 'R studio', 'Spark', 'aws', 'excel','Type of ownership','Average']]"
   ]
  },
  {
   "cell_type": "code",
   "execution_count": 44,
   "metadata": {},
   "outputs": [
    {
     "name": "stdout",
     "output_type": "stream",
     "text": [
      "\n",
      "Rating :\n",
      "           Average\n",
      "Rating            \n",
      " 2.0    140.000000\n",
      " 4.5    112.488889\n",
      " 4.7    112.351852\n",
      " 2.8    112.142857\n",
      " 3.2    111.987179\n",
      " 4.2    111.433962\n",
      " 4.0    111.265625\n",
      " 3.9    107.993151\n",
      " 4.3    106.953704\n",
      " 2.7    105.423077\n",
      " 3.7    104.365672\n",
      " 3.6    103.715517\n",
      " 2.2    103.000000\n",
      " 4.9    102.500000\n",
      " 4.1    102.278846\n",
      " 5.0    102.125000\n",
      " 4.6    100.800000\n",
      " 2.9    100.571429\n",
      " 4.4    100.220588\n",
      " 2.5     99.777778\n",
      " 3.5     99.500000\n",
      " 3.4     96.688889\n",
      " 3.3     96.597222\n",
      " 3.0     93.775000\n",
      " 3.1     93.661290\n",
      " 3.8     93.415663\n",
      " 4.8     92.416667\n",
      " 2.4     90.500000\n",
      "-1.0     88.750000\n",
      " 1.9     82.000000\n",
      " 2.1     69.500000\n",
      " 2.6     44.750000\n",
      "\n",
      "Size :\n",
      "                            Average\n",
      "Size                               \n",
      "Unknown                  118.666667\n",
      "5001 to 10000 Employees  115.129032\n",
      "51 to 200 Employees      102.760870\n",
      "1 to 50 Employees        102.719298\n",
      "10000+ Employees         102.332653\n",
      "201 to 500 Employees     102.241935\n",
      "501 to 1000 Employees    102.205607\n",
      "1001 to 5000 Employees   101.128019\n",
      "\n",
      "Age :\n",
      "        Average\n",
      "Age            \n",
      "91   159.500000\n",
      "107  150.714286\n",
      "45   149.333333\n",
      "183  140.500000\n",
      "102  138.500000\n",
      "..          ...\n",
      "61    55.500000\n",
      "65    52.000000\n",
      "54    50.714286\n",
      "121   49.500000\n",
      "99    24.000000\n",
      "\n",
      "[138 rows x 1 columns]\n",
      "\n",
      "desc length :\n",
      "             Average\n",
      "desc length         \n",
      "5647           225.0\n",
      "3252           215.0\n",
      "3531           211.0\n",
      "4459           201.5\n",
      "3390           201.0\n",
      "...              ...\n",
      "1390            41.0\n",
      "2388            37.5\n",
      "2546            35.0\n",
      "6168            24.0\n",
      "5019            15.5\n",
      "\n",
      "[622 rows x 1 columns]\n",
      "\n",
      "Industry :\n",
      "                                  Average\n",
      "Industry                                 \n",
      "Venture Capital & Private Equity  147.000\n",
      "Farm Support Services             144.000\n",
      "Financial Analytics & Research    143.000\n",
      "Education Training Services       140.500\n",
      "Stock Exchanges                   130.000\n",
      "...                                   ...\n",
      "Social Assistance                  73.375\n",
      "Gas Stations                       66.500\n",
      "Consumer Product Rental            64.500\n",
      "News Outlet                        60.000\n",
      "Metals Brokers                     55.000\n",
      "\n",
      "[78 rows x 1 columns]\n",
      "\n",
      "Sector :\n",
      "                                      Average\n",
      "Sector                                       \n",
      "Real Estate                        120.500000\n",
      "Biotech & Pharmaceuticals          119.500000\n",
      "Government                         114.726190\n",
      "Accounting & Legal                 114.125000\n",
      "Information Technology             111.773148\n",
      "Telecommunications                 111.550000\n",
      "Agriculture & Forestry             109.250000\n",
      "Finance                            107.557143\n",
      "Media                              103.392857\n",
      "Travel & Tourism                   102.000000\n",
      "Aerospace & Defense                100.206897\n",
      "Manufacturing                      100.035714\n",
      "Retail                              99.600000\n",
      "Insurance                           97.921875\n",
      "Transportation & Logistics          96.583333\n",
      "-1                                  93.846154\n",
      "Oil, Gas, Energy & Utilities        92.214286\n",
      "Non-Profit                          91.150000\n",
      "Health Care                         90.927083\n",
      "Restaurants, Bars & Food Services   90.666667\n",
      "Education                           90.338710\n",
      "Business Services                   88.682692\n",
      "Consumer Services                   64.500000\n",
      "Mining & Metals                     55.000000\n",
      "\n",
      "Revenue :\n",
      "                                     Average\n",
      "Revenue                                     \n",
      "$1 to $2 billion (USD)            109.067901\n",
      "$5 to $10 million (USD)           109.025000\n",
      "$10+ billion (USD)                108.519231\n",
      "Unknown / Non-Applicable          106.899103\n",
      "Less than $1 million (USD)        102.636364\n",
      "$5 to $10 billion (USD)           101.960526\n",
      "$2 to $5 billion (USD)            101.843750\n",
      "$1 to $5 million (USD)            101.340909\n",
      "$10 to $25 million (USD)          100.797101\n",
      "$25 to $50 million (USD)          100.794118\n",
      "$100 to $500 million (USD)         99.412500\n",
      "$50 to $100 million (USD)          91.827273\n",
      "$500 million to $1 billion (USD)   90.395349\n",
      "\n",
      "employer_provided :\n",
      "                      Average\n",
      "employer_provided            \n",
      "0                  103.160463\n",
      "1                   82.750000\n",
      "\n",
      "hourly :\n",
      "           Average\n",
      "hourly            \n",
      "0       103.170341\n",
      "1        37.000000\n",
      "\n",
      "Python :\n",
      "           Average\n",
      "Python            \n",
      "1       106.775103\n",
      "0        93.086081\n",
      "\n",
      "R studio :\n",
      "             Average\n",
      "R studio            \n",
      "0         103.109658\n",
      "1          91.166667\n",
      "\n",
      "Spark :\n",
      "          Average\n",
      "Spark            \n",
      "1      107.571161\n",
      "0      101.386767\n",
      "\n",
      "aws :\n",
      "        Average\n",
      "aws            \n",
      "1    107.651869\n",
      "0    101.781807\n",
      "\n",
      "excel :\n",
      "          Average\n",
      "excel            \n",
      "0      105.898810\n",
      "1      100.131048\n",
      "\n",
      "Type of ownership :\n",
      "                                   Average\n",
      "Type of ownership                         \n",
      "Private Practice / Firm         111.166667\n",
      "Hospital                        109.200000\n",
      "Company - Public                107.500000\n",
      "Subsidiary or Business Segment  102.739583\n",
      "Company - Private               102.277992\n",
      "Nonprofit Organization          100.519231\n",
      "Government                       98.750000\n",
      "College / University             88.120000\n",
      "Contract                         77.500000\n",
      "Unknown                          74.166667\n",
      "Other Organization               71.500000\n",
      "\n",
      "Average :\n"
     ]
    },
    {
     "ename": "ValueError",
     "evalue": "Grouper for 'Average' not 1-dimensional",
     "output_type": "error",
     "traceback": [
      "\u001b[1;31m---------------------------------------------------------------------------\u001b[0m",
      "\u001b[1;31mValueError\u001b[0m                                Traceback (most recent call last)",
      "\u001b[1;32m<ipython-input-44-4f90e94f0a9d>\u001b[0m in \u001b[0;36m<module>\u001b[1;34m\u001b[0m\n\u001b[0;32m      1\u001b[0m \u001b[1;32mfor\u001b[0m \u001b[0mi\u001b[0m \u001b[1;32min\u001b[0m \u001b[0mdf_pivot\u001b[0m\u001b[1;33m.\u001b[0m\u001b[0mcolumns\u001b[0m\u001b[1;33m:\u001b[0m\u001b[1;33m\u001b[0m\u001b[1;33m\u001b[0m\u001b[0m\n\u001b[0;32m      2\u001b[0m     \u001b[0mprint\u001b[0m\u001b[1;33m(\u001b[0m\u001b[1;34m'\\n'\u001b[0m\u001b[1;33m+\u001b[0m\u001b[0mi\u001b[0m\u001b[1;33m+\u001b[0m\u001b[1;34m' :'\u001b[0m\u001b[1;33m)\u001b[0m\u001b[1;33m\u001b[0m\u001b[1;33m\u001b[0m\u001b[0m\n\u001b[1;32m----> 3\u001b[1;33m     \u001b[0mprint\u001b[0m\u001b[1;33m(\u001b[0m \u001b[0mpd\u001b[0m\u001b[1;33m.\u001b[0m\u001b[0mpivot_table\u001b[0m\u001b[1;33m(\u001b[0m\u001b[0mdf_pivot\u001b[0m\u001b[1;33m,\u001b[0m\u001b[0mindex\u001b[0m\u001b[1;33m=\u001b[0m\u001b[0mi\u001b[0m\u001b[1;33m,\u001b[0m\u001b[0mvalues\u001b[0m\u001b[1;33m=\u001b[0m\u001b[1;34m'Average'\u001b[0m\u001b[1;33m)\u001b[0m\u001b[1;33m.\u001b[0m\u001b[0msort_values\u001b[0m\u001b[1;33m(\u001b[0m\u001b[1;34m'Average'\u001b[0m\u001b[1;33m,\u001b[0m\u001b[0mascending\u001b[0m\u001b[1;33m=\u001b[0m\u001b[1;32mFalse\u001b[0m\u001b[1;33m)\u001b[0m\u001b[1;33m)\u001b[0m\u001b[1;33m\u001b[0m\u001b[1;33m\u001b[0m\u001b[0m\n\u001b[0m",
      "\u001b[1;32m~\\anaconda3\\lib\\site-packages\\pandas\\core\\reshape\\pivot.py\u001b[0m in \u001b[0;36mpivot_table\u001b[1;34m(data, values, index, columns, aggfunc, fill_value, margins, dropna, margins_name, observed)\u001b[0m\n\u001b[0;32m    109\u001b[0m         \u001b[0mvalues\u001b[0m \u001b[1;33m=\u001b[0m \u001b[0mlist\u001b[0m\u001b[1;33m(\u001b[0m\u001b[0mvalues\u001b[0m\u001b[1;33m)\u001b[0m\u001b[1;33m\u001b[0m\u001b[1;33m\u001b[0m\u001b[0m\n\u001b[0;32m    110\u001b[0m \u001b[1;33m\u001b[0m\u001b[0m\n\u001b[1;32m--> 111\u001b[1;33m     \u001b[0mgrouped\u001b[0m \u001b[1;33m=\u001b[0m \u001b[0mdata\u001b[0m\u001b[1;33m.\u001b[0m\u001b[0mgroupby\u001b[0m\u001b[1;33m(\u001b[0m\u001b[0mkeys\u001b[0m\u001b[1;33m,\u001b[0m \u001b[0mobserved\u001b[0m\u001b[1;33m=\u001b[0m\u001b[0mobserved\u001b[0m\u001b[1;33m)\u001b[0m\u001b[1;33m\u001b[0m\u001b[1;33m\u001b[0m\u001b[0m\n\u001b[0m\u001b[0;32m    112\u001b[0m     \u001b[0magged\u001b[0m \u001b[1;33m=\u001b[0m \u001b[0mgrouped\u001b[0m\u001b[1;33m.\u001b[0m\u001b[0magg\u001b[0m\u001b[1;33m(\u001b[0m\u001b[0maggfunc\u001b[0m\u001b[1;33m)\u001b[0m\u001b[1;33m\u001b[0m\u001b[1;33m\u001b[0m\u001b[0m\n\u001b[0;32m    113\u001b[0m     \u001b[1;32mif\u001b[0m \u001b[0mdropna\u001b[0m \u001b[1;32mand\u001b[0m \u001b[0misinstance\u001b[0m\u001b[1;33m(\u001b[0m\u001b[0magged\u001b[0m\u001b[1;33m,\u001b[0m \u001b[0mABCDataFrame\u001b[0m\u001b[1;33m)\u001b[0m \u001b[1;32mand\u001b[0m \u001b[0mlen\u001b[0m\u001b[1;33m(\u001b[0m\u001b[0magged\u001b[0m\u001b[1;33m.\u001b[0m\u001b[0mcolumns\u001b[0m\u001b[1;33m)\u001b[0m\u001b[1;33m:\u001b[0m\u001b[1;33m\u001b[0m\u001b[1;33m\u001b[0m\u001b[0m\n",
      "\u001b[1;32m~\\anaconda3\\lib\\site-packages\\pandas\\core\\frame.py\u001b[0m in \u001b[0;36mgroupby\u001b[1;34m(self, by, axis, level, as_index, sort, group_keys, squeeze, observed, dropna)\u001b[0m\n\u001b[0;32m   6506\u001b[0m         \u001b[0maxis\u001b[0m \u001b[1;33m=\u001b[0m \u001b[0mself\u001b[0m\u001b[1;33m.\u001b[0m\u001b[0m_get_axis_number\u001b[0m\u001b[1;33m(\u001b[0m\u001b[0maxis\u001b[0m\u001b[1;33m)\u001b[0m\u001b[1;33m\u001b[0m\u001b[1;33m\u001b[0m\u001b[0m\n\u001b[0;32m   6507\u001b[0m \u001b[1;33m\u001b[0m\u001b[0m\n\u001b[1;32m-> 6508\u001b[1;33m         return DataFrameGroupBy(\n\u001b[0m\u001b[0;32m   6509\u001b[0m             \u001b[0mobj\u001b[0m\u001b[1;33m=\u001b[0m\u001b[0mself\u001b[0m\u001b[1;33m,\u001b[0m\u001b[1;33m\u001b[0m\u001b[1;33m\u001b[0m\u001b[0m\n\u001b[0;32m   6510\u001b[0m             \u001b[0mkeys\u001b[0m\u001b[1;33m=\u001b[0m\u001b[0mby\u001b[0m\u001b[1;33m,\u001b[0m\u001b[1;33m\u001b[0m\u001b[1;33m\u001b[0m\u001b[0m\n",
      "\u001b[1;32m~\\anaconda3\\lib\\site-packages\\pandas\\core\\groupby\\groupby.py\u001b[0m in \u001b[0;36m__init__\u001b[1;34m(self, obj, keys, axis, level, grouper, exclusions, selection, as_index, sort, group_keys, squeeze, observed, mutated, dropna)\u001b[0m\n\u001b[0;32m    523\u001b[0m             \u001b[1;32mfrom\u001b[0m \u001b[0mpandas\u001b[0m\u001b[1;33m.\u001b[0m\u001b[0mcore\u001b[0m\u001b[1;33m.\u001b[0m\u001b[0mgroupby\u001b[0m\u001b[1;33m.\u001b[0m\u001b[0mgrouper\u001b[0m \u001b[1;32mimport\u001b[0m \u001b[0mget_grouper\u001b[0m\u001b[1;33m\u001b[0m\u001b[1;33m\u001b[0m\u001b[0m\n\u001b[0;32m    524\u001b[0m \u001b[1;33m\u001b[0m\u001b[0m\n\u001b[1;32m--> 525\u001b[1;33m             grouper, exclusions, obj = get_grouper(\n\u001b[0m\u001b[0;32m    526\u001b[0m                 \u001b[0mobj\u001b[0m\u001b[1;33m,\u001b[0m\u001b[1;33m\u001b[0m\u001b[1;33m\u001b[0m\u001b[0m\n\u001b[0;32m    527\u001b[0m                 \u001b[0mkeys\u001b[0m\u001b[1;33m,\u001b[0m\u001b[1;33m\u001b[0m\u001b[1;33m\u001b[0m\u001b[0m\n",
      "\u001b[1;32m~\\anaconda3\\lib\\site-packages\\pandas\\core\\groupby\\grouper.py\u001b[0m in \u001b[0;36mget_grouper\u001b[1;34m(obj, key, axis, level, sort, observed, mutated, validate, dropna)\u001b[0m\n\u001b[0;32m    791\u001b[0m         \u001b[1;31m# allow us to passing the actual Grouping as the gpr\u001b[0m\u001b[1;33m\u001b[0m\u001b[1;33m\u001b[0m\u001b[1;33m\u001b[0m\u001b[0m\n\u001b[0;32m    792\u001b[0m         ping = (\n\u001b[1;32m--> 793\u001b[1;33m             Grouping(\n\u001b[0m\u001b[0;32m    794\u001b[0m                 \u001b[0mgroup_axis\u001b[0m\u001b[1;33m,\u001b[0m\u001b[1;33m\u001b[0m\u001b[1;33m\u001b[0m\u001b[0m\n\u001b[0;32m    795\u001b[0m                 \u001b[0mgpr\u001b[0m\u001b[1;33m,\u001b[0m\u001b[1;33m\u001b[0m\u001b[1;33m\u001b[0m\u001b[0m\n",
      "\u001b[1;32m~\\anaconda3\\lib\\site-packages\\pandas\\core\\groupby\\grouper.py\u001b[0m in \u001b[0;36m__init__\u001b[1;34m(self, index, grouper, obj, name, level, sort, observed, in_axis, dropna)\u001b[0m\n\u001b[0;32m    515\u001b[0m                 \u001b[1;32mif\u001b[0m \u001b[0mgetattr\u001b[0m\u001b[1;33m(\u001b[0m\u001b[0mself\u001b[0m\u001b[1;33m.\u001b[0m\u001b[0mgrouper\u001b[0m\u001b[1;33m,\u001b[0m \u001b[1;34m\"ndim\"\u001b[0m\u001b[1;33m,\u001b[0m \u001b[1;36m1\u001b[0m\u001b[1;33m)\u001b[0m \u001b[1;33m!=\u001b[0m \u001b[1;36m1\u001b[0m\u001b[1;33m:\u001b[0m\u001b[1;33m\u001b[0m\u001b[1;33m\u001b[0m\u001b[0m\n\u001b[0;32m    516\u001b[0m                     \u001b[0mt\u001b[0m \u001b[1;33m=\u001b[0m \u001b[0mself\u001b[0m\u001b[1;33m.\u001b[0m\u001b[0mname\u001b[0m \u001b[1;32mor\u001b[0m \u001b[0mstr\u001b[0m\u001b[1;33m(\u001b[0m\u001b[0mtype\u001b[0m\u001b[1;33m(\u001b[0m\u001b[0mself\u001b[0m\u001b[1;33m.\u001b[0m\u001b[0mgrouper\u001b[0m\u001b[1;33m)\u001b[0m\u001b[1;33m)\u001b[0m\u001b[1;33m\u001b[0m\u001b[1;33m\u001b[0m\u001b[0m\n\u001b[1;32m--> 517\u001b[1;33m                     \u001b[1;32mraise\u001b[0m \u001b[0mValueError\u001b[0m\u001b[1;33m(\u001b[0m\u001b[1;34mf\"Grouper for '{t}' not 1-dimensional\"\u001b[0m\u001b[1;33m)\u001b[0m\u001b[1;33m\u001b[0m\u001b[1;33m\u001b[0m\u001b[0m\n\u001b[0m\u001b[0;32m    518\u001b[0m                 \u001b[0mself\u001b[0m\u001b[1;33m.\u001b[0m\u001b[0mgrouper\u001b[0m \u001b[1;33m=\u001b[0m \u001b[0mself\u001b[0m\u001b[1;33m.\u001b[0m\u001b[0mindex\u001b[0m\u001b[1;33m.\u001b[0m\u001b[0mmap\u001b[0m\u001b[1;33m(\u001b[0m\u001b[0mself\u001b[0m\u001b[1;33m.\u001b[0m\u001b[0mgrouper\u001b[0m\u001b[1;33m)\u001b[0m\u001b[1;33m\u001b[0m\u001b[1;33m\u001b[0m\u001b[0m\n\u001b[0;32m    519\u001b[0m                 if not (\n",
      "\u001b[1;31mValueError\u001b[0m: Grouper for 'Average' not 1-dimensional"
     ]
    }
   ],
   "source": [
    "for i in df_pivot.columns:\n",
    "    print('\\n'+i+' :')\n",
    "    print( pd.pivot_table(df_pivot,index=i,values='Average').sort_values('Average',ascending=False))"
   ]
  },
  {
   "cell_type": "code",
   "execution_count": 48,
   "metadata": {},
   "outputs": [
    {
     "data": {
      "text/html": [
       "<div>\n",
       "<style scoped>\n",
       "    .dataframe tbody tr th:only-of-type {\n",
       "        vertical-align: middle;\n",
       "    }\n",
       "\n",
       "    .dataframe tbody tr th {\n",
       "        vertical-align: top;\n",
       "    }\n",
       "\n",
       "    .dataframe thead th {\n",
       "        text-align: right;\n",
       "    }\n",
       "</style>\n",
       "<table border=\"1\" class=\"dataframe\">\n",
       "  <thead>\n",
       "    <tr style=\"text-align: right;\">\n",
       "      <th>Python</th>\n",
       "      <th>0</th>\n",
       "      <th>1</th>\n",
       "    </tr>\n",
       "    <tr>\n",
       "      <th>Revenue</th>\n",
       "      <th></th>\n",
       "      <th></th>\n",
       "    </tr>\n",
       "  </thead>\n",
       "  <tbody>\n",
       "    <tr>\n",
       "      <th>$1 to $2 billion (USD)</th>\n",
       "      <td>15</td>\n",
       "      <td>66</td>\n",
       "    </tr>\n",
       "    <tr>\n",
       "      <th>$1 to $5 million (USD)</th>\n",
       "      <td>4</td>\n",
       "      <td>18</td>\n",
       "    </tr>\n",
       "    <tr>\n",
       "      <th>$10 to $25 million (USD)</th>\n",
       "      <td>25</td>\n",
       "      <td>44</td>\n",
       "    </tr>\n",
       "    <tr>\n",
       "      <th>$10+ billion (USD)</th>\n",
       "      <td>15</td>\n",
       "      <td>115</td>\n",
       "    </tr>\n",
       "    <tr>\n",
       "      <th>$100 to $500 million (USD)</th>\n",
       "      <td>56</td>\n",
       "      <td>104</td>\n",
       "    </tr>\n",
       "    <tr>\n",
       "      <th>$2 to $5 billion (USD)</th>\n",
       "      <td>12</td>\n",
       "      <td>52</td>\n",
       "    </tr>\n",
       "    <tr>\n",
       "      <th>$25 to $50 million (USD)</th>\n",
       "      <td>15</td>\n",
       "      <td>36</td>\n",
       "    </tr>\n",
       "    <tr>\n",
       "      <th>$5 to $10 billion (USD)</th>\n",
       "      <td>11</td>\n",
       "      <td>27</td>\n",
       "    </tr>\n",
       "    <tr>\n",
       "      <th>$5 to $10 million (USD)</th>\n",
       "      <td>4</td>\n",
       "      <td>16</td>\n",
       "    </tr>\n",
       "    <tr>\n",
       "      <th>$50 to $100 million (USD)</th>\n",
       "      <td>25</td>\n",
       "      <td>30</td>\n",
       "    </tr>\n",
       "    <tr>\n",
       "      <th>$500 million to $1 billion (USD)</th>\n",
       "      <td>18</td>\n",
       "      <td>25</td>\n",
       "    </tr>\n",
       "    <tr>\n",
       "      <th>Less than $1 million (USD)</th>\n",
       "      <td>7</td>\n",
       "      <td>37</td>\n",
       "    </tr>\n",
       "    <tr>\n",
       "      <th>Unknown / Non-Applicable</th>\n",
       "      <td>66</td>\n",
       "      <td>157</td>\n",
       "    </tr>\n",
       "  </tbody>\n",
       "</table>\n",
       "</div>"
      ],
      "text/plain": [
       "Python                             0    1\n",
       "Revenue                                  \n",
       "$1 to $2 billion (USD)            15   66\n",
       "$1 to $5 million (USD)             4   18\n",
       "$10 to $25 million (USD)          25   44\n",
       "$10+ billion (USD)                15  115\n",
       "$100 to $500 million (USD)        56  104\n",
       "$2 to $5 billion (USD)            12   52\n",
       "$25 to $50 million (USD)          15   36\n",
       "$5 to $10 billion (USD)           11   27\n",
       "$5 to $10 million (USD)            4   16\n",
       "$50 to $100 million (USD)         25   30\n",
       "$500 million to $1 billion (USD)  18   25\n",
       "Less than $1 million (USD)         7   37\n",
       "Unknown / Non-Applicable          66  157"
      ]
     },
     "execution_count": 48,
     "metadata": {},
     "output_type": "execute_result"
    }
   ],
   "source": [
    "pd.pivot_table(df,index='Revenue',columns='Python',values='Average',aggfunc='count')"
   ]
  },
  {
   "cell_type": "code",
   "execution_count": null,
   "metadata": {},
   "outputs": [],
   "source": []
  }
 ],
 "metadata": {
  "kernelspec": {
   "display_name": "Python 3",
   "language": "python",
   "name": "python3"
  },
  "language_info": {
   "codemirror_mode": {
    "name": "ipython",
    "version": 3
   },
   "file_extension": ".py",
   "mimetype": "text/x-python",
   "name": "python",
   "nbconvert_exporter": "python",
   "pygments_lexer": "ipython3",
   "version": "3.8.5"
  }
 },
 "nbformat": 4,
 "nbformat_minor": 4
}
